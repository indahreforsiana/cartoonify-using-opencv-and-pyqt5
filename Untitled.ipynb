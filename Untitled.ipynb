{
 "cells": [
  {
   "cell_type": "code",
   "execution_count": 1,
   "metadata": {},
   "outputs": [],
   "source": [
    "from PyQt5.QtWidgets import QMainWindow, QApplication, QFileDialog\n",
    "from PyQt5 import uic, QtGui, QtCore, QtWidgets\n",
    "import sys"
   ]
  },
  {
   "cell_type": "code",
   "execution_count": 4,
   "metadata": {},
   "outputs": [],
   "source": [
    "form_class = uic.loadUiType(\"cartoon.ui\")[0]  # Load the UI\n"
   ]
  },
  {
   "cell_type": "code",
   "execution_count": null,
   "metadata": {},
   "outputs": [],
   "source": [
    "class MyWindowClass(QMainWindow, form_class):\n",
    "    def __init__(self, parent=None):\n",
    "        QMainWindow.__init__(self, parent)\n",
    "        self.setupUi(self)\n",
    "app = QApplication(sys.argv)\n",
    "myWindow = MyWindowClass(None)\n",
    "myWindow.show()\n",
    "sys.exit(app.exec_()) "
   ]
  },
  {
   "cell_type": "code",
   "execution_count": null,
   "metadata": {},
   "outputs": [],
   "source": [
    "ui = Ui_second()       \n",
    "ui.show()"
   ]
  },
  {
   "cell_type": "code",
   "execution_count": null,
   "metadata": {},
   "outputs": [],
   "source": []
  }
 ],
 "metadata": {
  "kernelspec": {
   "display_name": "Python 3",
   "language": "python",
   "name": "python3"
  },
  "language_info": {
   "codemirror_mode": {
    "name": "ipython",
    "version": 3
   },
   "file_extension": ".py",
   "mimetype": "text/x-python",
   "name": "python",
   "nbconvert_exporter": "python",
   "pygments_lexer": "ipython3",
   "version": "3.7.7"
  }
 },
 "nbformat": 4,
 "nbformat_minor": 4
}
